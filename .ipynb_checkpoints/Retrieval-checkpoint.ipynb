{
 "cells": [
  {
   "cell_type": "code",
   "execution_count": 2,
   "metadata": {},
   "outputs": [],
   "source": [
    "from lang_funcs import *\n",
    "from langchain.llms import Ollama\n",
    "from langchain import PromptTemplate"
   ]
  },
  {
   "cell_type": "code",
   "execution_count": 3,
   "metadata": {},
   "outputs": [],
   "source": [
    "# Loading orca-mini from Ollama\n",
    "llm = Ollama(model=\"orca-mini\", temperature=0)\n",
    "\n",
    "# Loading the Embedding Model\n",
    "embed = load_embedding_model(model_path=\"all-MiniLM-L6-v2\")"
   ]
  },
  {
   "cell_type": "code",
   "execution_count": 4,
   "metadata": {},
   "outputs": [],
   "source": [
    "# loading and splitting the documents\n",
    "docs = load_pdf_data(file_path=\"data/ml_book.pdf\")\n",
    "documents = split_docs(documents=docs)\n",
    "\n",
    "# creating vectorstore\n",
    "vectorstore = create_embeddings(documents, embed)\n",
    "\n",
    "# converting vectorstore to a retriever\n",
    "retriever = vectorstore.as_retriever()"
   ]
  },
  {
   "cell_type": "code",
   "execution_count": 7,
   "metadata": {},
   "outputs": [],
   "source": [
    "template = \"\"\"\n",
    "### System:\n",
    "You are an respectful and honest assistant. You have to answer the user's questions using only the context \\\n",
    "provided to you. If you don't know the answer, just say you don't know. Don't try to make up an answer.\n",
    "\n",
    "### Context:\n",
    "{context}\n",
    "\n",
    "### User:\n",
    "{question}\n",
    "\n",
    "### Response:\n",
    "\"\"\"\n",
    "\n",
    "prompt = PromptTemplate.from_template(template)"
   ]
  },
  {
   "cell_type": "code",
   "execution_count": null,
   "metadata": {},
   "outputs": [],
   "source": [
    "# Creating the prompt from the template which we created before\n",
    "prompt = PromptTemplate.from_template(template)\n",
    "\n",
    "# Creating the chain\n",
    "chain = load_qa_chain(retriever, llm, prompt)"
   ]
  },
  {
   "cell_type": "code",
   "execution_count": 8,
   "metadata": {},
   "outputs": [],
   "source": [
    "chain = load_qa_chain(retriever, llm, prompt)"
   ]
  },
  {
   "cell_type": "code",
   "execution_count": 17,
   "metadata": {},
   "outputs": [
    {
     "name": "stdout",
     "output_type": "stream",
     "text": [
      " Random Forest is an ensemble learning technique that uses decision trees as base classifiers to\n",
      "create a new classifier. It is a type of ensemble learning method that combines multiple decision\n",
      "trees to improve the accuracy and reduce overfitting of the final model. The Random Forest algorithm\n",
      "introduces extra randomness when growing trees, instead of searching for the very best feature when\n",
      "splitting a node (like regular Decision Trees do). This results in a greater tree diversity, which\n",
      "trades a higher bias for a lower variance. It is also more computationally efficient than other\n",
      "ensemble learning methods like Bagging and Boosting.\n"
     ]
    }
   ],
   "source": [
    "get_response(\"What is random forest?\", chain)"
   ]
  },
  {
   "cell_type": "code",
   "execution_count": 15,
   "metadata": {},
   "outputs": [
    {
     "name": "stdout",
     "output_type": "stream",
     "text": [
      " Aurélien Géron is a Machine Learning consultant. He was a former Googler and a founder and CTO of\n",
      "Wifirst from 2002 to 2012, a leading Wireless ISP in France; and a founder and CTO of Polyconseil in\n",
      "2001, the firm that now manages the electric car sharing service Autolib’ before this he worked as\n",
      "an engineer in a variety of domains: finance (JP Morgan and Société Générale), defense (Canada’s\n",
      "DOD), and healthcare (blood transfusion). He published a few technical books (on C++, WiFi, and\n",
      "internet architectures), and was a Computer Science lecturer in a French engineering school.\n"
     ]
    }
   ],
   "source": [
    "get_response(\"Who is aurelien geron?\", chain)"
   ]
  },
  {
   "cell_type": "code",
   "execution_count": 19,
   "metadata": {},
   "outputs": [
    {
     "name": "stdout",
     "output_type": "stream",
     "text": [
      " A voting classifier is a type of machine learning algorithm that predicts the class of a given\n",
      "input data point based on the majority vote of multiple classifiers. In other words, it takes the\n",
      "predictions of several different classifiers and predicts the class that gets the most votes. This\n",
      "approach can be used to improve the accuracy of machine learning models by using the diversity of\n",
      "predictions from different classifiers. The hard voting classifier is a type of voting classifier\n",
      "that predicts the class with the highest majority vote.\n"
     ]
    }
   ],
   "source": [
    "get_response(\"What is Voting Classifier?\", chain)"
   ]
  },
  {
   "cell_type": "code",
   "execution_count": 21,
   "metadata": {},
   "outputs": [
    {
     "name": "stdout",
     "output_type": "stream",
     "text": [
      " Voting classifiers and Random Forests are two different approaches to creating an ensemble of\n",
      "classifiers.   Voting classifiers use majority vote to predict the class that receives the most\n",
      "votes from the classifiers in the ensemble. This approach is based on the idea that the majority\n",
      "opinion is likely to be correct, and that by aggregating the predictions of multiple classifiers, we\n",
      "can improve our accuracy. The hard voting classifier is a simple implementation of this approach.\n",
      "On the other hand, Random Forests is an ensemble learning method that uses decision trees as base\n",
      "classifiers. It is trained via the bagging method, where each tree is grown from a randomly selected\n",
      "subset of the training data. The Random Forest classifier is more convenient and optimized for\n",
      "Decision Trees than voting classifiers, and it generally yields an overall better model.\n"
     ]
    }
   ],
   "source": [
    "get_response(\"What is the difference between voting classifier and random forest?\", chain)"
   ]
  }
 ],
 "metadata": {
  "kernelspec": {
   "display_name": ".venv",
   "language": "python",
   "name": "python3"
  },
  "language_info": {
   "codemirror_mode": {
    "name": "ipython",
    "version": 3
   },
   "file_extension": ".py",
   "mimetype": "text/x-python",
   "name": "python",
   "nbconvert_exporter": "python",
   "pygments_lexer": "ipython3",
   "version": "3.10.12"
  },
  "orig_nbformat": 4
 },
 "nbformat": 4,
 "nbformat_minor": 2
}
